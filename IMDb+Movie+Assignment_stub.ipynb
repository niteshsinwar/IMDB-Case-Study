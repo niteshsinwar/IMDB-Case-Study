{
 "cells": [
  {
   "cell_type": "code",
   "execution_count": null,
   "metadata": {},
   "outputs": [],
   "source": [
    "# Filtering out the warnings\n",
    "\n",
    "import warnings\n",
    "\n",
    "warnings.filterwarnings('ignore')"
   ]
  },
  {
   "cell_type": "code",
   "execution_count": null,
   "metadata": {},
   "outputs": [],
   "source": [
    "# Importing the required libraries\n",
    "\n",
    "import numpy as np\n",
    "import pandas as pd\n",
    "import seaborn as sns\n",
    "import matplotlib.pyplot as plt\n"
   ]
  },
  {
   "cell_type": "markdown",
   "metadata": {},
   "source": [
    "# <font color = blue> IMDb Movie Assignment </font>\n",
    "\n",
    "You have the data for the 100 top-rated movies from the past decade along with various pieces of information about the movie, its actors, and the voters who have rated these movies online. In this assignment, you will try to find some interesting insights into these movies and their voters, using Python."
   ]
  },
  {
   "cell_type": "markdown",
   "metadata": {},
   "source": [
    "##  Task 1: Reading the data"
   ]
  },
  {
   "cell_type": "markdown",
   "metadata": {},
   "source": [
    "- ### Subtask 1.1: Read the Movies Data.\n",
    "\n",
    "Read the movies data file provided and store it in a dataframe `movies`."
   ]
  },
  {
   "cell_type": "code",
   "execution_count": null,
   "metadata": {},
   "outputs": [],
   "source": [
    "# Read the csv file using 'read_csv'. Please write your dataset location here.\n",
    "movies=pd.read_csv(\"Movie+Assignment+Data.csv\")\n",
    "movies.head()"
   ]
  },
  {
   "cell_type": "markdown",
   "metadata": {},
   "source": [
    "- ###  Subtask 1.2: Inspect the Dataframe\n",
    "\n",
    "Inspect the dataframe for dimensions, null-values, and summary of different numeric columns."
   ]
  },
  {
   "cell_type": "code",
   "execution_count": null,
   "metadata": {},
   "outputs": [],
   "source": [
    "# Check the number of rows and columns in the dataframe\n",
    "movies.shape"
   ]
  },
  {
   "cell_type": "code",
   "execution_count": null,
   "metadata": {},
   "outputs": [],
   "source": [
    "movies.dtypes"
   ]
  },
  {
   "cell_type": "code",
   "execution_count": null,
   "metadata": {},
   "outputs": [],
   "source": [
    "movies.isnull().sum()>0"
   ]
  },
  {
   "cell_type": "code",
   "execution_count": null,
   "metadata": {},
   "outputs": [],
   "source": [
    "# Check the column-wise info of the dataframe\n",
    "movies.info()"
   ]
  },
  {
   "cell_type": "code",
   "execution_count": null,
   "metadata": {},
   "outputs": [],
   "source": [
    "# Check the summary for the numeric columns \n",
    "movies.describe()"
   ]
  },
  {
   "cell_type": "markdown",
   "metadata": {},
   "source": [
    "## Task 2: Data Analysis\n",
    "\n",
    "Now that we have loaded the dataset and inspected it, we see that most of the data is in place. As of now, no data cleaning is required, so let's start with some data manipulation, analysis, and visualisation to get various insights about the data. "
   ]
  },
  {
   "cell_type": "markdown",
   "metadata": {},
   "source": [
    "-  ###  Subtask 2.1: Reduce those Digits!\n",
    "\n",
    "These numbers in the `budget` and `gross` are too big, compromising its readability. Let's convert the unit of the `budget` and `gross` columns from `$` to `million $` first."
   ]
  },
  {
   "cell_type": "code",
   "execution_count": null,
   "metadata": {},
   "outputs": [],
   "source": [
    "# Divide the 'gross' and 'budget' columns by 1000000 to convert '$' to 'million $'\n",
    "movies.budget=movies.budget/1000000\n",
    "movies.Gross=movies.Gross/1000000"
   ]
  },
  {
   "cell_type": "code",
   "execution_count": null,
   "metadata": {},
   "outputs": [],
   "source": [
    "movies.head()"
   ]
  },
  {
   "cell_type": "markdown",
   "metadata": {},
   "source": [
    "-  ###  Subtask 2.2: Let's Talk Profit!\n",
    "\n",
    "    1. Create a new column called `profit` which contains the difference of the two columns: `gross` and `budget`.\n",
    "    2. Sort the dataframe using the `profit` column as reference.\n",
    "    3. Extract the top ten profiting movies in descending order and store them in a new dataframe - `top10`.\n",
    "    4. Plot a scatter or a joint plot between the columns `budget` and `profit` and write a few words on what you observed.\n",
    "    5. Extract the movies with a negative profit and store them in a new dataframe - `neg_profit`"
   ]
  },
  {
   "cell_type": "code",
   "execution_count": null,
   "metadata": {},
   "outputs": [],
   "source": [
    "movies[\"Gross\"].isnull().sum()"
   ]
  },
  {
   "cell_type": "code",
   "execution_count": null,
   "metadata": {},
   "outputs": [],
   "source": [
    "movies[\"budget\"].isnull().sum()"
   ]
  },
  {
   "cell_type": "code",
   "execution_count": null,
   "metadata": {},
   "outputs": [],
   "source": [
    "# Create the new column named 'profit' by subtracting the 'budget' column from the 'gross' column\n",
    "movies[\"profit\"] = movies[\"Gross\"]-movies[\"budget\"]"
   ]
  },
  {
   "cell_type": "code",
   "execution_count": null,
   "metadata": {},
   "outputs": [],
   "source": [
    "# Sort the dataframe with the 'profit' column as reference using the 'sort_values' function. Make sure to set the argument\n",
    "#'ascending' to 'False'\n",
    "movies.sort_values(by=\"profit\",ascending = False,inplace = True)\n",
    "movies.head()"
   ]
  },
  {
   "cell_type": "code",
   "execution_count": null,
   "metadata": {},
   "outputs": [],
   "source": [
    "# Get the top 10 profitable movies by using position based indexing. Specify the rows till 10 (0-9)\n",
    "top10=movies.iloc[0:10]\n",
    "top10"
   ]
  },
  {
   "cell_type": "code",
   "execution_count": null,
   "metadata": {},
   "outputs": [],
   "source": [
    "#Plot profit vs budget\n",
    "plt.figure(figsize=[11,7])\n",
    "plt.scatter(movies.budget,movies.profit)\n",
    "plt.title(\"Profit v Budget\")\n",
    "plt.xlabel(\"Budget\")\n",
    "plt.ylabel(\"Profit\")\n",
    "plt.show()\n",
    "#My Observation: Movies with higher budgets are not necessarily profitable"
   ]
  },
  {
   "cell_type": "markdown",
   "metadata": {},
   "source": [
    "### <font color=red>My Observation: Movies with higher budgets are not necessarily profitable</font>"
   ]
  },
  {
   "cell_type": "markdown",
   "metadata": {},
   "source": [
    "The dataset contains the 100 best performing movies from the year 2010 to 2016. However scatter plot tells a different story. You can notice that there are some movies with negative profit. Although good movies do incur losses, but there appear to be quite a few movie with losses. What can be the reason behind this? Lets have a closer look at this by finding the movies with negative profit."
   ]
  },
  {
   "cell_type": "code",
   "execution_count": null,
   "metadata": {},
   "outputs": [],
   "source": [
    "#Find the movies with negative profit\n",
    "neg_profit = movies[movies[\"profit\"]<0]\n",
    "neg_profit"
   ]
  },
  {
   "cell_type": "markdown",
   "metadata": {},
   "source": [
    "**`Checkpoint 1:`** Can you spot the movie `Tangled` in the dataset? You may be aware of the movie 'Tangled'. Although its one of the highest grossing movies of all time, it has negative profit as per this result. If you cross check the gross values of this movie (link: https://www.imdb.com/title/tt0398286/), you can see that the gross in the dataset accounts only for the domestic gross and not the worldwide gross. This is true for may other movies also in the list."
   ]
  },
  {
   "cell_type": "markdown",
   "metadata": {},
   "source": [
    "- ### Subtask 2.3: The General Audience and the Critics\n",
    "\n",
    "You might have noticed the column `MetaCritic` in this dataset. This is a very popular website where an average score is determined through the scores given by the top-rated critics. Second, you also have another column `IMDb_rating` which tells you the IMDb rating of a movie. This rating is determined by taking the average of hundred-thousands of ratings from the general audience. \n",
    "\n",
    "As a part of this subtask, you are required to find out the highest rated movies which have been liked by critics and audiences alike.\n",
    "1. Firstly you will notice that the `MetaCritic` score is on a scale of `100` whereas the `IMDb_rating` is on a scale of 10. First convert the `MetaCritic` column to a scale of 10.\n",
    "2. Now, to find out the movies which have been liked by both critics and audiences alike and also have a high rating overall, you need to -\n",
    "    - Create a new column `Avg_rating` which will have the average of the `MetaCritic` and `Rating` columns\n",
    "    - Retain only the movies in which the absolute difference(using abs() function) between the `IMDb_rating` and `Metacritic` columns is less than 0.5. Refer to this link to know how abs() funtion works - https://www.geeksforgeeks.org/abs-in-python/ .\n",
    "    - Sort these values in a descending order of `Avg_rating` and retain only the movies with a rating equal to higher than `8` and store these movies in a new dataframe `UniversalAcclaim`.\n",
    "    "
   ]
  },
  {
   "cell_type": "code",
   "execution_count": null,
   "metadata": {},
   "outputs": [],
   "source": [
    "movies.MetaCritic.isnull().sum()"
   ]
  },
  {
   "cell_type": "code",
   "execution_count": null,
   "metadata": {},
   "outputs": [],
   "source": [
    "movies.IMDb_rating.isnull().sum()"
   ]
  },
  {
   "cell_type": "code",
   "execution_count": null,
   "metadata": {},
   "outputs": [],
   "source": [
    "movies.MetaCritic=movies.MetaCritic.fillna(0)\n",
    "movies.MetaCritic.isnull().sum()"
   ]
  },
  {
   "cell_type": "code",
   "execution_count": null,
   "metadata": {},
   "outputs": [],
   "source": [
    "movies[\"MetaCritic\"]=movies[\"MetaCritic\"]*0.10\n",
    "movies[\"MetaCritic\"]"
   ]
  },
  {
   "cell_type": "code",
   "execution_count": null,
   "metadata": {},
   "outputs": [],
   "source": [
    "# Find the average ratings\n",
    "movies[\"Avg_rating\"]=(movies[\"MetaCritic\"]+movies[\"IMDb_rating\"])/2"
   ]
  },
  {
   "cell_type": "code",
   "execution_count": null,
   "metadata": {},
   "outputs": [],
   "source": [
    "#Sort in descending order of average rating\n",
    "movies.sort_values(by=\"Avg_rating\", ascending=False,inplace=True)\n",
    "movies.head()"
   ]
  },
  {
   "cell_type": "code",
   "execution_count": null,
   "metadata": {},
   "outputs": [],
   "source": [
    "# Find the movies with metacritic-rating < 0.5 and also with the average rating of >8\n",
    "UniversalAcclaim=movies[(round(abs(movies[\"MetaCritic\"]-movies[\"IMDb_rating\"]),2)<0.5)&(movies[\"Avg_rating\"]>8)]\n",
    "UniversalAcclaim"
   ]
  },
  {
   "cell_type": "markdown",
   "metadata": {},
   "source": [
    "**`Checkpoint 2:`** Can you spot a `Star Wars` movie in your final dataset?"
   ]
  },
  {
   "cell_type": "markdown",
   "metadata": {},
   "source": [
    "- ### Subtask 2.4: Find the Most Popular Trios - I\n",
    "\n",
    "You're a producer looking to make a blockbuster movie. There will primarily be three lead roles in your movie and you wish to cast the most popular actors for it. Now, since you don't want to take a risk, you will cast a trio which has already acted in together in a movie before. The metric that you've chosen to check the popularity is the Facebook likes of each of these actors.\n",
    "\n",
    "The dataframe has three columns to help you out for the same, viz. `actor_1_facebook_likes`, `actor_2_facebook_likes`, and `actor_3_facebook_likes`. Your objective is to find the trios which has the most number of Facebook likes combined. That is, the sum of `actor_1_facebook_likes`, `actor_2_facebook_likes` and `actor_3_facebook_likes` should be maximum.\n",
    "Find out the top 5 popular trios, and output their names in a list.\n"
   ]
  },
  {
   "cell_type": "code",
   "execution_count": null,
   "metadata": {},
   "outputs": [],
   "source": [
    "movies.actor_1_facebook_likes.isnull().sum()"
   ]
  },
  {
   "cell_type": "code",
   "execution_count": null,
   "metadata": {},
   "outputs": [],
   "source": [
    "movies.actor_2_facebook_likes.isnull().sum()"
   ]
  },
  {
   "cell_type": "code",
   "execution_count": null,
   "metadata": {},
   "outputs": [],
   "source": [
    "movies.actor_2_facebook_likes=movies.actor_2_facebook_likes.fillna(0)\n",
    "movies.actor_2_facebook_likes.isnull().sum()"
   ]
  },
  {
   "cell_type": "code",
   "execution_count": null,
   "metadata": {},
   "outputs": [],
   "source": [
    "movies.actor_3_facebook_likes.isnull().sum()"
   ]
  },
  {
   "cell_type": "code",
   "execution_count": null,
   "metadata": {},
   "outputs": [],
   "source": [
    "movies.actor_3_facebook_likes=movies.actor_3_facebook_likes.fillna(0)\n",
    "movies.actor_3_facebook_likes.isnull().sum()"
   ]
  },
  {
   "cell_type": "code",
   "execution_count": null,
   "metadata": {},
   "outputs": [],
   "source": [
    "# Write your code here\n",
    "movies[\"max_likes\"]=movies.actor_1_facebook_likes+movies.actor_2_facebook_likes+movies.actor_3_facebook_likes\n",
    "movies.sort_values(by=\"max_likes\",ascending=False,inplace=True)\n",
    "trio_i=movies.iloc[0:5,:]\n",
    "trio_i=trio_i[trio_i.columns[4:7]].values.tolist()\n",
    "trio_i"
   ]
  },
  {
   "cell_type": "markdown",
   "metadata": {},
   "source": [
    "- ### Subtask 2.5: Find the Most Popular Trios - II\n",
    "\n",
    "In the previous subtask you found the popular trio based on the total number of facebook likes. Let's add a small condition to it and make sure that all three actors are popular. The condition is **none of the three actors' Facebook likes should be less than half of the other two**. For example, the following is a valid combo:\n",
    "- actor_1_facebook_likes: 70000\n",
    "- actor_2_facebook_likes: 40000\n",
    "- actor_3_facebook_likes: 50000\n",
    "\n",
    "But the below one is not:\n",
    "- actor_1_facebook_likes: 70000\n",
    "- actor_2_facebook_likes: 40000\n",
    "- actor_3_facebook_likes: 30000\n",
    "\n",
    "since in this case, `actor_3_facebook_likes` is 30000, which is less than half of `actor_1_facebook_likes`.\n",
    "\n",
    "Having this condition ensures that you aren't getting any unpopular actor in your trio (since the total likes calculated in the previous question doesn't tell anything about the individual popularities of each actor in the trio.).\n",
    "\n",
    "You can do a manual inspection of the top 5 popular trios you have found in the previous subtask and check how many of those trios satisfy this condition. Also, which is the most popular trio after applying the condition above?"
   ]
  },
  {
   "cell_type": "markdown",
   "metadata": {},
   "source": [
    "**Write your answers below.**\n",
    "\n",
    "- **`No. of trios that satisfy the above condition:`** <font color=red>__THREE__</font>\n",
    "\n",
    "- **`Most popular trio after applying the condition:`** <font color=red>__['Leonardo DiCaprio','Tom Hardy','Joseph Gordon-Levitt']__</font>"
   ]
  },
  {
   "cell_type": "markdown",
   "metadata": {},
   "source": [
    "**`Optional:`** Even though you are finding this out by a natural inspection of the dataframe, can you also achieve this through some *if-else* statements to incorporate this. You can try this out on your own time after you are done with the assignment."
   ]
  },
  {
   "cell_type": "code",
   "execution_count": null,
   "metadata": {},
   "outputs": [],
   "source": [
    "# Your answer here (optional)\n",
    "\n"
   ]
  },
  {
   "cell_type": "markdown",
   "metadata": {},
   "source": [
    "- ### Subtask 2.6: Runtime Analysis\n",
    "\n",
    "There is a column named `Runtime` in the dataframe which primarily shows the length of the movie. It might be intersting to see how this variable this distributed. Plot a `histogram` or `distplot` of seaborn to find the `Runtime` range most of the movies fall into."
   ]
  },
  {
   "cell_type": "code",
   "execution_count": null,
   "metadata": {},
   "outputs": [],
   "source": [
    "# Runtime histogram/density plot\n",
    "sns.distplot(movies.Runtime)\n",
    "plt.show()"
   ]
  },
  {
   "cell_type": "markdown",
   "metadata": {},
   "source": [
    "**`Checkpoint 3:`** Most of the movies appear to be sharply 2 hour-long."
   ]
  },
  {
   "cell_type": "markdown",
   "metadata": {},
   "source": [
    "- ### Subtask 2.7: R-Rated Movies\n",
    "\n",
    "Although R rated movies are restricted movies for the under 18 age group, still there are vote counts from that age group. Among all the R rated movies that have been voted by the under-18 age group, find the top 10 movies that have the highest number of votes i.e.`CVotesU18` from the `movies` dataframe. Store these in a dataframe named `PopularR`."
   ]
  },
  {
   "cell_type": "code",
   "execution_count": null,
   "metadata": {},
   "outputs": [],
   "source": [
    "# Write your code here\n",
    "PopularR = movies[movies[\"content_rating\"]==\"R\"]\n",
    "PopularR.sort_values(by=\"CVotesU18\",ascending=False,inplace=True)\n",
    "PopularR[0:10]"
   ]
  },
  {
   "cell_type": "markdown",
   "metadata": {},
   "source": [
    "**`Checkpoint 4:`** Are these kids watching `Deadpool` a lot?"
   ]
  },
  {
   "cell_type": "markdown",
   "metadata": {},
   "source": [
    " "
   ]
  },
  {
   "cell_type": "markdown",
   "metadata": {},
   "source": [
    "## Task 3 : Demographic analysis\n",
    "\n",
    "If you take a look at the last columns in the dataframe, most of these are related to demographics of the voters (in the last subtask, i.e., 2.8, you made use one of these columns - CVotesU18). We also have three genre columns indicating the genres of a particular movie. We will extensively use these columns for the third and the final stage of our assignment wherein we will analyse the voters across all demographics and also see how these vary across various genres. So without further ado, let's get started with `demographic analysis`."
   ]
  },
  {
   "cell_type": "markdown",
   "metadata": {},
   "source": [
    "-  ###  Subtask 3.1 Combine the Dataframe by Genres\n",
    "\n",
    "There are 3 columns in the dataframe - `genre_1`, `genre_2`, and `genre_3`. As a part of this subtask, you need to aggregate a few values over these 3 columns. \n",
    "1. First create a new dataframe `df_by_genre` that contains `genre_1`, `genre_2`, and `genre_3` and all the columns related to **CVotes/Votes** from the `movies` data frame. There are 47 columns to be extracted in total.\n",
    "2. Now, Add a column called `cnt` to the dataframe `df_by_genre` and initialize it to one. You will realise the use of this column by the end of this subtask.\n",
    "3. First group the dataframe `df_by_genre` by `genre_1` and find the sum of all the numeric columns such as `cnt`, columns related to CVotes and Votes columns and store it in a dataframe `df_by_g1`.\n",
    "4. Perform the same operation for `genre_2` and `genre_3` and store it dataframes `df_by_g2` and `df_by_g3` respectively. \n",
    "5. Now that you have 3 dataframes performed by grouping over `genre_1`, `genre_2`, and `genre_3` separately, it's time to combine them. For this, add the three dataframes and store it in a new dataframe `df_add`, so that the corresponding values of Votes/CVotes get added for each genre.There is a function called `add()` in pandas which lets you do this. You can refer to this link to see how this function works. https://pandas.pydata.org/pandas-docs/version/0.23.4/generated/pandas.DataFrame.add.html\n",
    "6. The column `cnt` on aggregation has basically kept the track of the number of occurences of each genre.Subset the genres that have atleast 10 movies into a new dataframe `genre_top10` based on the `cnt` column value.\n",
    "7. Now, take the mean of all the numeric columns by dividing them with the column value `cnt` and store it back to the same dataframe. We will be using this dataframe for further analysis in this task unless it is explicitly mentioned to use the dataframe `movies`.\n",
    "8. Since the number of votes can't be a fraction, type cast all the CVotes related columns to integers. Also, round off all the Votes related columns upto two digits after the decimal point.\n"
   ]
  },
  {
   "cell_type": "code",
   "execution_count": null,
   "metadata": {},
   "outputs": [],
   "source": [
    "# Create the dataframe df_by_genre\n",
    "df_by_genre=movies[['genre_1','genre_2','genre_3','CVotes10','CVotes09','CVotes08','CVotes07','CVotes06','CVotes05','CVotes04','CVotes03','CVotes02','CVotes01','CVotesMale','CVotesFemale','CVotesU18','CVotesU18M','CVotesU18F','CVotes1829','CVotes1829M','CVotes1829F','CVotes3044','CVotes3044M','CVotes3044F','CVotes45A','CVotes45AM','CVotes45AF','CVotes1000','CVotesUS','CVotesnUS','VotesM','VotesF','VotesU18','VotesU18M','VotesU18F','Votes1829','Votes1829M','Votes1829F','Votes3044','Votes3044M','Votes3044F','Votes45A','Votes45AM','Votes45AF','Votes1000','VotesUS','VotesnUS']]\n",
    "df_by_genre"
   ]
  },
  {
   "cell_type": "code",
   "execution_count": null,
   "metadata": {},
   "outputs": [],
   "source": [
    "# Create a column cnt and initialize it to 1\n",
    "df_by_genre[\"cnt\"]=1\n",
    "df_by_genre.head()"
   ]
  },
  {
   "cell_type": "code",
   "execution_count": null,
   "metadata": {},
   "outputs": [],
   "source": [
    "# Group the movies by individual genres\n",
    "df_by_g1=df_by_genre.groupby(by=\"genre_1\").sum()\n",
    "df_by_g2=df_by_genre.groupby(by=\"genre_2\").sum()\n",
    "df_by_g3=df_by_genre.groupby(by=\"genre_3\").sum()"
   ]
  },
  {
   "cell_type": "code",
   "execution_count": null,
   "metadata": {},
   "outputs": [],
   "source": [
    "# Add the grouped data frames and store it in a new data frame\n",
    "df_add=df_by_g1.add(df_by_g2,fill_value=0).add(df_by_g3,fill_value=0)\n",
    "df_add"
   ]
  },
  {
   "cell_type": "code",
   "execution_count": null,
   "metadata": {},
   "outputs": [],
   "source": [
    "# Extract genres with atleast 10 occurences\n",
    "genre_top10 = df_add[(df_add[\"cnt\"]>=10)]\n",
    "genre_top10"
   ]
  },
  {
   "cell_type": "code",
   "execution_count": null,
   "metadata": {},
   "outputs": [],
   "source": [
    "# Take the mean for every column by dividing with cnt\n",
    "genre_top10=pd.concat([genre_top10.iloc[:,0:44].div(genre_top10.cnt,axis=0),genre_top10.cnt],axis=1)\n",
    "genre_top10"
   ]
  },
  {
   "cell_type": "code",
   "execution_count": null,
   "metadata": {},
   "outputs": [],
   "source": [
    "# Rounding off the columns of Votes to two decimals\n",
    "genre_top10.iloc[:,27:].round(2)"
   ]
  },
  {
   "cell_type": "code",
   "execution_count": null,
   "metadata": {},
   "outputs": [],
   "source": [
    "# Converting CVotes to int type\n",
    "genre_top10.iloc[:,0:27].astype(\"int\")"
   ]
  },
  {
   "cell_type": "code",
   "execution_count": null,
   "metadata": {},
   "outputs": [],
   "source": [
    "genre_top10=pd.concat([genre_top10.iloc[:,0:27].astype(\"int\"), genre_top10.iloc[:,27:].round(2)], axis=1)\n",
    "genre_top10"
   ]
  },
  {
   "cell_type": "markdown",
   "metadata": {},
   "source": [
    "If you take a look at the final dataframe that you have gotten, you will see that you now have the complete information about all the demographic (Votes- and CVotes-related) columns across the top 10 genres. We can use this dataset to extract exciting insights about the voters!"
   ]
  },
  {
   "cell_type": "markdown",
   "metadata": {},
   "source": [
    "-  ###  Subtask 3.2: Genre Counts!\n",
    "\n",
    "Now let's derive some insights from this data frame. Make a bar chart plotting different genres vs cnt using seaborn."
   ]
  },
  {
   "cell_type": "code",
   "execution_count": null,
   "metadata": {},
   "outputs": [],
   "source": [
    "genre_top10.head()"
   ]
  },
  {
   "cell_type": "code",
   "execution_count": null,
   "metadata": {},
   "outputs": [],
   "source": [
    "genre_top10=genre_top10.reset_index()\n",
    "genre_top10=genre_top10.rename(columns={'index':'genre'})\n",
    "genre_top10"
   ]
  },
  {
   "cell_type": "code",
   "execution_count": null,
   "metadata": {},
   "outputs": [],
   "source": [
    "# Countplot for genres\n",
    "plt.figure(figsize=[19, 7])\n",
    "ax=sns.barplot(data=genre_top10,x=\"genre\",y=\"cnt\")\n",
    "plt.show()"
   ]
  },
  {
   "cell_type": "markdown",
   "metadata": {},
   "source": [
    "**`Checkpoint 5:`** Is the bar for `Drama` the tallest?"
   ]
  },
  {
   "cell_type": "markdown",
   "metadata": {},
   "source": [
    "-  ###  Subtask 3.3: Gender and Genre\n",
    "\n",
    "If you have closely looked at the Votes- and CVotes-related columns, you might have noticed the suffixes `F` and `M` indicating Female and Male. Since we have the vote counts for both males and females, across various age groups, let's now see how the popularity of genres vary between the two genders in the dataframe. \n",
    "\n",
    "1. Make the first heatmap to see how the average number of votes of males is varying across the genres. Use seaborn heatmap for this analysis. The X-axis should contain the four age-groups for males, i.e., `CVotesU18M`,`CVotes1829M`, `CVotes3044M`, and `CVotes45AM`. The Y-axis will have the genres and the annotation in the heatmap tell the average number of votes for that age-male group. \n",
    "\n",
    "2. Make the second heatmap to see how the average number of votes of females is varying across the genres. Use seaborn heatmap for this analysis. The X-axis should contain the four age-groups for females, i.e., `CVotesU18F`,`CVotes1829F`, `CVotes3044F`, and `CVotes45AF`. The Y-axis will have the genres and the annotation in the heatmap tell the average number of votes for that age-female group. \n",
    "\n",
    "3. Make sure that you plot these heatmaps side by side using `subplots` so that you can easily compare the two genders and derive insights.\n",
    "\n",
    "4. Write your any three inferences from this plot. You can make use of the previous bar plot also here for better insights.\n",
    "Refer to this link- https://seaborn.pydata.org/generated/seaborn.heatmap.html. You might have to plot something similar to the fifth chart in this page (You have to plot two such heatmaps side by side).\n",
    "\n",
    "5. Repeat subtasks 1 to 4, but now instead of taking the CVotes-related columns, you need to do the same process for the Votes-related columns. These heatmaps will show you how the two genders have rated movies across various genres.\n",
    "\n",
    "You might need the below link for formatting your heatmap.\n",
    "https://stackoverflow.com/questions/56942670/matplotlib-seaborn-first-and-last-row-cut-in-half-of-heatmap-plot\n",
    "\n",
    "-  Note : Use `genre_top10` dataframe for this subtask"
   ]
  },
  {
   "cell_type": "code",
   "execution_count": null,
   "metadata": {},
   "outputs": [],
   "source": [
    "genre_top10.set_index(['genre'], inplace = True)\n",
    "genre_top10.head()"
   ]
  },
  {
   "cell_type": "code",
   "execution_count": null,
   "metadata": {},
   "outputs": [],
   "source": [
    "# 1st set of heat maps for CVotes-related columns\n",
    "f,(ax1,ax2) =plt.subplots(1,2,figsize=(18, 8),sharey=True)\n",
    "sns.heatmap(data=genre_top10[[\"CVotesU18M\",\"CVotes1829M\",\"CVotes3044M\",\"CVotes45AM\"]],cmap=\"Blues\",annot=True,linewidth=0.5,ax=ax1,fmt=\"d\")\n",
    "sns.heatmap(data=genre_top10[[\"CVotesU18F\",\"CVotes1829F\",\"CVotes3044F\",\"CVotes45AF\"]],cmap=\"Blues\",annot=True,linewidth=0.5,ax=ax2,fmt=\"d\")\n",
    "plt.show()"
   ]
  },
  {
   "cell_type": "markdown",
   "metadata": {},
   "source": [
    "**`Inferences:`** A few inferences that can be seen from the heatmap above is that males have voted more than females, and Sci-Fi appears to be most popular among the 18-29 age group irrespective of their gender. What more can you infer from the two heatmaps that you have plotted? Write your three inferences/observations below:\n",
    "- Inference 1: __<font color=red>Audience of age group 1829 are MOST likely to cast vote irrespective of gender</font>__\n",
    "- Inference 2: __<font color=red>Audience in age group U18M are LEAST likely to cast vote</font>__\n",
    "- Inference 3: __<font color=red>Romance is the LEAST popular genre among U18M audience and Crime is the LEAST popular genre among U18F audience</font>__"
   ]
  },
  {
   "cell_type": "code",
   "execution_count": null,
   "metadata": {},
   "outputs": [],
   "source": [
    "# 2nd set of heat maps for Votes-related columns\n",
    "f,(ax1,ax2) =plt.subplots(1,2,figsize=(18, 8),sharey=True)\n",
    "sns.heatmap(data=genre_top10[[\"VotesU18M\",\"Votes1829M\",\"Votes3044M\",\"Votes45AM\"]],cmap=\"Blues\",annot=True,linewidth=0.5,ax=ax1)\n",
    "sns.heatmap(data=genre_top10[[\"VotesU18F\",\"Votes1829F\",\"Votes3044F\",\"Votes45AF\"]],cmap=\"Blues\",annot=True,linewidth=0.5,ax=ax2)\n",
    "plt.show()"
   ]
  },
  {
   "cell_type": "markdown",
   "metadata": {},
   "source": [
    "**`Inferences:`** Sci-Fi appears to be the highest rated genre in the age group of U18 for both males and females. Also, females in this age group have rated it a bit higher than the males in the same age group. What more can you infer from the two heatmaps that you have plotted? Write your three inferences/observations below:\n",
    "- Inference 1: __<font color=red>The average rating across all genres shows a downward trend with increasing age group</font>__\n",
    "- Inference 2: __<font color=red>The Adventure genre has received the highest rating from the female audience across age groups and the Sci-fi genre has received the highest rating from the male audience across age groups</font>__\n",
    "- Inference 3: __<font color=red>U18 audience (irrespective of their gender) are MOST likely to rate movies across genres higher than the audience of other age groups</font>__"
   ]
  },
  {
   "cell_type": "markdown",
   "metadata": {},
   "source": [
    "-  ###  Subtask 3.4: US vs non-US Cross Analysis\n",
    "\n",
    "The dataset contains both the US and non-US movies. Let's analyse how both the US and the non-US voters have responded to the US and the non-US movies.\n",
    "\n",
    "1. Create a column `IFUS` in the dataframe `movies`. The column `IFUS` should contain the value \"USA\" if the `Country` of the movie is \"USA\". For all other countries other than the USA, `IFUS` should contain the value `non-USA`.\n",
    "\n",
    "\n",
    "2. Now make a boxplot that shows how the number of votes from the US people i.e. `CVotesUS` is varying for the US and non-US movies. Make use of the column `IFUS` to make this plot. Similarly, make another subplot that shows how non US voters have voted for the US and non-US movies by plotting `CVotesnUS` for both the US and non-US movies. Write any of your two inferences/observations from these plots.\n",
    "\n",
    "\n",
    "3. Again do a similar analysis but with the ratings. Make a boxplot that shows how the ratings from the US people i.e. `VotesUS` is varying for the US and non-US movies. Similarly, make another subplot that shows how `VotesnUS` is varying for the US and non-US movies. Write any of your two inferences/observations from these plots.\n",
    "\n",
    "Note : Use `movies` dataframe for this subtask. Make use of this documention to format your boxplot - https://seaborn.pydata.org/generated/seaborn.boxplot.html"
   ]
  },
  {
   "cell_type": "code",
   "execution_count": null,
   "metadata": {},
   "outputs": [],
   "source": [
    "# Creating IFUS column\n",
    "movies[\"IFUS\"]=movies.Country.apply(lambda x: \"USA\" if x==\"USA\" else \"non-USA\")\n",
    "movies.head()"
   ]
  },
  {
   "cell_type": "code",
   "execution_count": null,
   "metadata": {},
   "outputs": [],
   "source": [
    "# Box plot - 1: CVotesUS(y) vs IFUS(x)\n",
    "f,(ax1,ax2) =plt.subplots(1,2,figsize=(18, 8),sharey=True)\n",
    "sns.boxplot(data=movies,x=\"IFUS\",y=\"CVotesUS\",ax=ax1)\n",
    "sns.boxplot(data=movies,x=\"IFUS\",y=\"CVotesnUS\",ax=ax2)\n",
    "plt.show()"
   ]
  },
  {
   "cell_type": "markdown",
   "metadata": {},
   "source": [
    "**`Inferences:`** Write your two inferences/observations below:\n",
    "- Inference 1: <font color=red>__The total number of votes cast by the US people is considerably LESS than that of the non-US people__</font>\n",
    "- Inference 2: <font color=red>__Both USA and non-USA movies received almost same average number of votes from both US and non-US people__</font>"
   ]
  },
  {
   "cell_type": "code",
   "execution_count": null,
   "metadata": {},
   "outputs": [],
   "source": [
    "# Box plot - 2: VotesUS(y) vs IFUS(x)\n",
    "f,(ax1,ax2) =plt.subplots(1,2,figsize=(18, 8),sharey=True)\n",
    "sns.boxplot(data=movies,x=\"IFUS\",y=\"VotesUS\",ax=ax1)\n",
    "sns.boxplot(data=movies,x=\"IFUS\",y=\"VotesnUS\",ax=ax2)\n",
    "plt.show()"
   ]
  },
  {
   "cell_type": "markdown",
   "metadata": {},
   "source": [
    "**`Inferences:`** Write your two inferences/observations below:\n",
    "- Inference 1: <font color=red>__On an average, the rating given by the US people for USA movies is HIGHER than the non-US people for USA movies__</font>\n",
    "- Inference 2: <font color=red>__On an average, USA movies received HIGHER ratings from non-US people__</font>"
   ]
  },
  {
   "cell_type": "markdown",
   "metadata": {},
   "source": [
    "-  ###  Subtask 3.5:  Top 1000 Voters Vs Genres\n",
    "\n",
    "You might have also observed the column `CVotes1000`. This column represents the top 1000 voters on IMDb and gives the count for the number of these voters who have voted for a particular movie. Let's see how these top 1000 voters have voted across the genres. \n",
    "\n",
    "1. Sort the dataframe genre_top10 based on the value of `CVotes1000`in a descending order.\n",
    "\n",
    "2. Make a seaborn barplot for `genre` vs `CVotes1000`.\n",
    "\n",
    "3. Write your inferences. You can also try to relate it with the heatmaps you did in the previous subtasks.\n",
    "\n",
    "\n"
   ]
  },
  {
   "cell_type": "code",
   "execution_count": null,
   "metadata": {},
   "outputs": [],
   "source": [
    "# Sorting by CVotes1000\n",
    "genre_top10=genre_top10.sort_values(by=\"CVotes1000\", ascending=False)\n",
    "genre_top10"
   ]
  },
  {
   "cell_type": "code",
   "execution_count": null,
   "metadata": {},
   "outputs": [],
   "source": [
    "genre_top10=genre_top10.reset_index()"
   ]
  },
  {
   "cell_type": "code",
   "execution_count": null,
   "metadata": {},
   "outputs": [],
   "source": [
    "genre_top10=genre_top10.rename(columns={'index':'genre'})\n",
    "genre_top10"
   ]
  },
  {
   "cell_type": "code",
   "execution_count": null,
   "metadata": {},
   "outputs": [],
   "source": [
    "# Bar plot\n",
    "plt.figure(figsize=[9, 7])\n",
    "ax=sns.barplot(data=genre_top10,x=\"genre\",y=\"CVotes1000\")\n",
    "plt.show()"
   ]
  },
  {
   "cell_type": "markdown",
   "metadata": {},
   "source": [
    "**`Inferences:`** Write your inferences/observations here.<br/>\n",
    "__<font color=red>`Sci-Fi` is the MOST popular while `Romance` is the LEAST popular genre among the top 1000 voters</font>__"
   ]
  },
  {
   "cell_type": "markdown",
   "metadata": {},
   "source": [
    "**`Checkpoint 6:`** The genre `Romance` seems to be most unpopular among the top 1000 voters."
   ]
  },
  {
   "cell_type": "markdown",
   "metadata": {},
   "source": [
    "\n",
    "\n"
   ]
  },
  {
   "cell_type": "markdown",
   "metadata": {},
   "source": [
    "With the above subtask, your assignment is over. In your free time, do explore the dataset further on your own and see what kind of other insights you can get across various other columns."
   ]
  }
 ],
 "metadata": {
  "kernelspec": {
   "display_name": "Python 3.8.8 ('base')",
   "language": "python",
   "name": "python3"
  },
  "language_info": {
   "codemirror_mode": {
    "name": "ipython",
    "version": 3
   },
   "file_extension": ".py",
   "mimetype": "text/x-python",
   "name": "python",
   "nbconvert_exporter": "python",
   "pygments_lexer": "ipython3",
   "version": "3.8.8"
  },
  "vscode": {
   "interpreter": {
    "hash": "5f1de7d2f8b2ea13c275b55a1a168baa6b4c6d64260a02c6ee9ee64f3ff538fa"
   }
  }
 },
 "nbformat": 4,
 "nbformat_minor": 4
}
